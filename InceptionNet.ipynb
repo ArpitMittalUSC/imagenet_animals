{
 "cells": [
  {
   "cell_type": "code",
   "execution_count": 1,
   "id": "5dbce5d0",
   "metadata": {},
   "outputs": [],
   "source": [
    "import torch\n",
    "import torchvision\n",
    "import torchvision.transforms as transforms\n",
    "from PIL import Image"
   ]
  },
  {
   "cell_type": "code",
   "execution_count": 7,
   "id": "ab7047ca",
   "metadata": {},
   "outputs": [],
   "source": [
    "model = torchvision.models.inception_v3(pretrained=True)"
   ]
  },
  {
   "cell_type": "code",
   "execution_count": 8,
   "id": "6f445e19",
   "metadata": {},
   "outputs": [
    {
     "name": "stdout",
     "output_type": "stream",
     "text": [
      "Accuracy of the CoCa model on the validation set: 0 %\n"
     ]
    }
   ],
   "source": [
    "model.eval()\n",
    "\n",
    "# Define the validation data loader\n",
    "batch_size = 16\n",
    "data_transforms = transforms.Compose([\n",
    "    transforms.Resize(256),\n",
    "    transforms.CenterCrop(224),\n",
    "    transforms.ToTensor(),\n",
    "    transforms.Normalize(mean=[0.485, 0.456, 0.406],\n",
    "                         std=[0.229, 0.224, 0.225])\n",
    "])\n",
    "val_data = torchvision.datasets.ImageFolder('/Users/harshiljhaveri/Documents/Homework/Deep Learning/project/tiered_imagenet_animals/smallval', transform=data_transforms)\n",
    "val_loader = torch.utils.data.DataLoader(val_data, batch_size=batch_size, shuffle=True)\n",
    "\n",
    "# Calculate the accuracy of the model on the validation set\n",
    "correct = 0\n",
    "total = 0\n",
    "outputs_array = torch.empty([1])\n",
    "labels_array\n",
    "with torch.no_grad():\n",
    "    for images, labels in val_loader:\n",
    "        outputs = model(images)\n",
    "        _, predicted = torch.max(outputs, 1)\n",
    "        total += labels.size(0)\n",
    "        outputs_array = torch.cat((outputs_array,predicted))\n",
    "        correct += (predicted == labels).sum().item()\n",
    "\n",
    "print('Accuracy of the CoCa model on the validation set: %d %%' % (100 * correct / total))"
   ]
  },
  {
   "cell_type": "code",
   "execution_count": null,
   "id": "bc99532b",
   "metadata": {},
   "outputs": [],
   "source": [
    "print('Accuracy of the CoCa model on the validation set: %d %%' % (100 * correct / total))"
   ]
  }
 ],
 "metadata": {
  "kernelspec": {
   "display_name": "Python 3 (ipykernel)",
   "language": "python",
   "name": "python3"
  },
  "language_info": {
   "codemirror_mode": {
    "name": "ipython",
    "version": 3
   },
   "file_extension": ".py",
   "mimetype": "text/x-python",
   "name": "python",
   "nbconvert_exporter": "python",
   "pygments_lexer": "ipython3",
   "version": "3.8.13"
  }
 },
 "nbformat": 4,
 "nbformat_minor": 5
}
